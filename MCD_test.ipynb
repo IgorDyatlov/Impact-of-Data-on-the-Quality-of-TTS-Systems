{
 "cells": [
  {
   "cell_type": "code",
   "execution_count": 1,
   "id": "through-flesh",
   "metadata": {},
   "outputs": [],
   "source": [
    "# !pip install -U pymcd"
   ]
  },
  {
   "cell_type": "code",
   "execution_count": 1,
   "id": "given-gross",
   "metadata": {},
   "outputs": [],
   "source": [
    "import os"
   ]
  },
  {
   "cell_type": "code",
   "execution_count": 2,
   "id": "fatal-paraguay",
   "metadata": {},
   "outputs": [],
   "source": [
    "from collections import defaultdict"
   ]
  },
  {
   "cell_type": "code",
   "execution_count": 3,
   "id": "green-playback",
   "metadata": {},
   "outputs": [],
   "source": [
    "from pymcd.mcd import Calculate_MCD\n",
    "\n",
    "# instance of MCD class\n",
    "# three different modes \"plain\", \"dtw\" and \"dtw_sl\" for the above three MCD metrics\n",
    "mcd_toolbox = Calculate_MCD(MCD_mode=\"plain\")\n",
    "mcd_toolbox_2 = Calculate_MCD(MCD_mode=\"dtw\")\n",
    "mcd_toolbox_3 = Calculate_MCD(MCD_mode=\"dtw_sl\")"
   ]
  },
  {
   "cell_type": "code",
   "execution_count": 4,
   "id": "correct-warehouse",
   "metadata": {},
   "outputs": [],
   "source": [
    "dir_list = ['ljspeech_200000', 'ljspeech_210000', 'jane_210000', 'wives_210000', 'jane_210000_22050hz',\n",
    "           'mailabs_207000_22050hz', 'mailabs_210000_22050hz', 'jane_210000_new', 'jane_210000_24000hz', 'wives_210000_new',\n",
    "           'wives_210000_22050hz', 'wives_210000_24000hz']"
   ]
  },
  {
   "cell_type": "code",
   "execution_count": 14,
   "id": "welsh-cooler",
   "metadata": {},
   "outputs": [],
   "source": [
    "dir_list = ['wives_210000_new',\n",
    "           'wives_210000_22050hz', 'wives_210000_24000hz']"
   ]
  },
  {
   "cell_type": "code",
   "execution_count": 5,
   "id": "federal-tender",
   "metadata": {},
   "outputs": [],
   "source": [
    "model_dict = defaultdict(dict)"
   ]
  },
  {
   "cell_type": "code",
   "execution_count": 6,
   "id": "thrown-burning",
   "metadata": {},
   "outputs": [],
   "source": [
    "for elem in dir_list:\n",
    "    for idx in range(1, 11):\n",
    "        model_dict[elem][idx] = mcd_toolbox.calculate_mcd(f'ground_truth/{idx}.wav', f'{elem}/{idx}_generated_e2e.wav')\n",
    "\n",
    "#mcd_value = mcd_toolbox.calculate_mcd(\"ground_truth/1.wav\", \"ljspeech_200000/1_generated_e2e.wav\")"
   ]
  },
  {
   "cell_type": "code",
   "execution_count": 7,
   "id": "burning-public",
   "metadata": {},
   "outputs": [
    {
     "data": {
      "text/plain": [
       "defaultdict(dict,\n",
       "            {'ljspeech_200000': {1: 16.55239317504943,\n",
       "              2: 14.25351802297506,\n",
       "              3: 25.34520285787583,\n",
       "              4: 16.250553493725587,\n",
       "              5: 13.98553930137171,\n",
       "              6: 23.49488289933069,\n",
       "              7: 24.670779723030858,\n",
       "              8: 19.139575857912888,\n",
       "              9: 26.746366614316273,\n",
       "              10: 26.35783506589917},\n",
       "             'ljspeech_210000': {1: 19.142401822727816,\n",
       "              2: 11.230130202739991,\n",
       "              3: 20.15253883813773,\n",
       "              4: 12.997890545099454,\n",
       "              5: 11.230999203970107,\n",
       "              6: 17.938900510701977,\n",
       "              7: 17.64179157056221,\n",
       "              8: 16.13403446309832,\n",
       "              9: 19.936359298684575,\n",
       "              10: 19.485822477056516},\n",
       "             'jane_210000': {1: 11.188497364132699,\n",
       "              2: 7.015814872233774,\n",
       "              3: 7.691312654906685,\n",
       "              4: 6.470761595403966,\n",
       "              5: 7.665290356937808,\n",
       "              6: 7.199962228185046,\n",
       "              7: 13.816146673690453,\n",
       "              8: 7.564755705915833,\n",
       "              9: 8.311937812741544,\n",
       "              10: 12.018343288781375},\n",
       "             'wives_210000': {1: 6.608875843275241,\n",
       "              2: 7.673193198062104,\n",
       "              3: 11.315233720764462,\n",
       "              4: 7.296533868711328,\n",
       "              5: 7.563228746569337,\n",
       "              6: 9.227972806817007,\n",
       "              7: 11.304585419016465,\n",
       "              8: 12.403472046566419,\n",
       "              9: 6.359793998404168,\n",
       "              10: 10.584347071458609},\n",
       "             'jane_210000_22050hz': {1: 15.907686581834747,\n",
       "              2: 9.132816211635328,\n",
       "              3: 6.25844944199188,\n",
       "              4: 5.443228536673734,\n",
       "              5: 7.09322292179592,\n",
       "              6: 3.789436867531232,\n",
       "              7: 8.398485753425197,\n",
       "              8: 7.151771169623222,\n",
       "              9: 10.589008502383303,\n",
       "              10: 13.961086977173961},\n",
       "             'mailabs_207000_22050hz': {1: 7.149329659990912,\n",
       "              2: 9.450563001385923,\n",
       "              3: 4.676073791279718,\n",
       "              4: 8.59316528351057,\n",
       "              5: 6.493788463312338,\n",
       "              6: 9.944714309943642,\n",
       "              7: 11.033580121487168,\n",
       "              8: 11.098518510559929,\n",
       "              9: 10.38467372351134,\n",
       "              10: 14.258060287445625},\n",
       "             'mailabs_210000_22050hz': {1: 12.573861459927414,\n",
       "              2: 6.4982322560052905,\n",
       "              3: 5.319537437879245,\n",
       "              4: 5.902363721489635,\n",
       "              5: 6.348805202845789,\n",
       "              6: 9.760375478519283,\n",
       "              7: 12.66725920491743,\n",
       "              8: 6.383584446467444,\n",
       "              9: 9.885942244547316,\n",
       "              10: 12.423403809469407},\n",
       "             'jane_210000_new': {1: 11.264803577029753,\n",
       "              2: 7.42590222946114,\n",
       "              3: 6.439257130649662,\n",
       "              4: 6.148014029331567,\n",
       "              5: 6.835989479570541,\n",
       "              6: 9.024702878132706,\n",
       "              7: 14.14843810525065,\n",
       "              8: 8.954147790671954,\n",
       "              9: 10.375461090264784,\n",
       "              10: 14.536161708073791},\n",
       "             'jane_210000_24000hz': {1: 8.226056582456588,\n",
       "              2: 9.549126159355009,\n",
       "              3: 5.99938110116767,\n",
       "              4: 9.441484692988398,\n",
       "              5: 3.972364953154613,\n",
       "              6: 3.5689467014706073,\n",
       "              7: 7.543910366283115,\n",
       "              8: 11.99569723009882,\n",
       "              9: 9.988521120765235,\n",
       "              10: 15.692879590575085},\n",
       "             'wives_210000_new': {1: 10.454684496174314,\n",
       "              2: 9.189305156812027,\n",
       "              3: 11.790362786027892,\n",
       "              4: 8.934182392295439,\n",
       "              5: 9.675620520618839,\n",
       "              6: 9.701382247962295,\n",
       "              7: 14.72131931160624,\n",
       "              8: 10.829113446804577,\n",
       "              9: 10.456935580446315,\n",
       "              10: 11.613315366103047},\n",
       "             'wives_210000_22050hz': {1: 11.104300033349075,\n",
       "              2: 10.596076852965096,\n",
       "              3: 12.105366458345742,\n",
       "              4: 7.347671421094344,\n",
       "              5: 8.543882935123692,\n",
       "              6: 8.682949924116583,\n",
       "              7: 13.41525512420587,\n",
       "              8: 9.179860120399674,\n",
       "              9: 9.559915571810867,\n",
       "              10: 15.052806143304917},\n",
       "             'wives_210000_24000hz': {1: 11.603105200453903,\n",
       "              2: 11.633644693522104,\n",
       "              3: 15.244972512821557,\n",
       "              4: 9.200570317359603,\n",
       "              5: 10.97118810449051,\n",
       "              6: 13.656494433275457,\n",
       "              7: 16.48651571020082,\n",
       "              8: 13.588986698461234,\n",
       "              9: 13.483271131534275,\n",
       "              10: 17.033172381784468}})"
      ]
     },
     "execution_count": 7,
     "metadata": {},
     "output_type": "execute_result"
    }
   ],
   "source": [
    "model_dict"
   ]
  },
  {
   "cell_type": "code",
   "execution_count": 8,
   "id": "pressing-webcam",
   "metadata": {},
   "outputs": [],
   "source": [
    "model_dict_2 = defaultdict(dict)"
   ]
  },
  {
   "cell_type": "code",
   "execution_count": 9,
   "id": "treated-argentina",
   "metadata": {},
   "outputs": [],
   "source": [
    "for elem in dir_list:\n",
    "    for idx in range(1, 11):\n",
    "        model_dict_2[elem][idx] = mcd_toolbox_2.calculate_mcd(f'ground_truth/{idx}.wav', f'{elem}/{idx}_generated_e2e.wav')\n",
    "\n",
    "#mcd_value = mcd_toolbox.calculate_mcd(\"ground_truth/1.wav\", \"ljspeech_200000/1_generated_e2e.wav\")"
   ]
  },
  {
   "cell_type": "code",
   "execution_count": 10,
   "id": "featured-champion",
   "metadata": {},
   "outputs": [
    {
     "data": {
      "text/plain": [
       "defaultdict(dict,\n",
       "            {'ljspeech_200000': {1: 10.897754395353994,\n",
       "              2: 11.85714617851322,\n",
       "              3: 16.665767991288714,\n",
       "              4: 12.899027300720592,\n",
       "              5: 11.445840591625663,\n",
       "              6: 12.185546778788437,\n",
       "              7: 13.885339512840666,\n",
       "              8: 11.75234347713788,\n",
       "              9: 15.873325985451409,\n",
       "              10: 19.10803397851474},\n",
       "             'ljspeech_210000': {1: 14.599556008135497,\n",
       "              2: 7.926804646163765,\n",
       "              3: 13.884068413129345,\n",
       "              4: 8.670936981017173,\n",
       "              5: 8.704609752575468,\n",
       "              6: 10.962577114907402,\n",
       "              7: 9.744105401427706,\n",
       "              8: 7.421982224758434,\n",
       "              9: 11.843133326311516,\n",
       "              10: 12.629353659442081},\n",
       "             'jane_210000': {1: 5.657405808223068,\n",
       "              2: 4.849727759017165,\n",
       "              3: 4.637713948461837,\n",
       "              4: 3.0242351779071774,\n",
       "              5: 4.014052851651312,\n",
       "              6: 3.9252283054247,\n",
       "              7: 5.310481813973993,\n",
       "              8: 5.580825661513945,\n",
       "              9: 6.778392982748076,\n",
       "              10: 6.4076361112702305},\n",
       "             'wives_210000': {1: 4.742923956839694,\n",
       "              2: 5.8875447073515605,\n",
       "              3: 8.184049606296465,\n",
       "              4: 4.015679179495947,\n",
       "              5: 3.896984786006195,\n",
       "              6: 4.889722773879512,\n",
       "              7: 7.9112014781910265,\n",
       "              8: 5.647933554201613,\n",
       "              9: 4.604405348536185,\n",
       "              10: 6.090512308772344},\n",
       "             'jane_210000_22050hz': {1: 4.099132865188489,\n",
       "              2: 5.625895207016834,\n",
       "              3: 4.210228157155691,\n",
       "              4: 2.927298475080246,\n",
       "              5: 3.017355253409548,\n",
       "              6: 1.8697860011792842,\n",
       "              7: 5.161083940518341,\n",
       "              8: 4.625907931101301,\n",
       "              9: 5.850170199857825,\n",
       "              10: 7.430854586751686},\n",
       "             'mailabs_207000_22050hz': {1: 3.062013799950075,\n",
       "              2: 6.913581239216543,\n",
       "              3: 3.347075934536004,\n",
       "              4: 4.109677691868287,\n",
       "              5: 3.8734672516236364,\n",
       "              6: 4.859057057977358,\n",
       "              7: 4.760627603775203,\n",
       "              8: 5.102380751372573,\n",
       "              9: 6.335290008033036,\n",
       "              10: 6.943640703229612},\n",
       "             'mailabs_210000_22050hz': {1: 3.690964326438638,\n",
       "              2: 4.199832840479244,\n",
       "              3: 3.3413226153977216,\n",
       "              4: 3.2764566176963394,\n",
       "              5: 4.501412797359709,\n",
       "              6: 4.754446472739678,\n",
       "              7: 5.78327775238074,\n",
       "              8: 3.865959459756215,\n",
       "              9: 5.941014596581731,\n",
       "              10: 5.934745250575254},\n",
       "             'jane_210000_new': {1: 3.6846355597275813,\n",
       "              2: 4.376143561192353,\n",
       "              3: 3.621842411588259,\n",
       "              4: 2.8138929846863054,\n",
       "              5: 2.2916208930757946,\n",
       "              6: 4.559530595598413,\n",
       "              7: 7.37466378073009,\n",
       "              8: 4.47708695500916,\n",
       "              9: 7.19663049452861,\n",
       "              10: 6.330562615919808},\n",
       "             'jane_210000_24000hz': {1: 3.696393609554115,\n",
       "              2: 5.46945798024664,\n",
       "              3: 2.8543351013864307,\n",
       "              4: 3.8197992290442477,\n",
       "              5: 2.1559034451688257,\n",
       "              6: 1.9668531746179994,\n",
       "              7: 3.9549297991385206,\n",
       "              8: 4.112110950207534,\n",
       "              9: 5.4609620131013195,\n",
       "              10: 5.786280697202145},\n",
       "             'wives_210000_new': {1: 4.024887051082178,\n",
       "              2: 5.683474754681821,\n",
       "              3: 8.030897435256998,\n",
       "              4: 6.469427766402146,\n",
       "              5: 4.634684131902445,\n",
       "              6: 6.275874882479352,\n",
       "              7: 7.635822625766993,\n",
       "              8: 6.923001419192069,\n",
       "              9: 5.974688329365793,\n",
       "              10: 7.487667509399696},\n",
       "             'wives_210000_22050hz': {1: 4.8737869586390445,\n",
       "              2: 7.348413999160363,\n",
       "              3: 7.7161051948587325,\n",
       "              4: 4.133150230616493,\n",
       "              5: 3.8643084924958893,\n",
       "              6: 4.995747122458603,\n",
       "              7: 7.390373242791477,\n",
       "              8: 5.178912375056278,\n",
       "              9: 5.90014816872426,\n",
       "              10: 7.984279204174401},\n",
       "             'wives_210000_24000hz': {1: 7.072610708340803,\n",
       "              2: 8.819335796544756,\n",
       "              3: 11.870364263354277,\n",
       "              4: 5.2981176455087375,\n",
       "              5: 6.202816260264136,\n",
       "              6: 6.922523616560284,\n",
       "              7: 9.567114668797531,\n",
       "              8: 6.961451811243586,\n",
       "              9: 8.315092552411118,\n",
       "              10: 12.31936161215785}})"
      ]
     },
     "execution_count": 10,
     "metadata": {},
     "output_type": "execute_result"
    }
   ],
   "source": [
    "model_dict_2"
   ]
  },
  {
   "cell_type": "code",
   "execution_count": 15,
   "id": "minor-luther",
   "metadata": {},
   "outputs": [],
   "source": [
    "model_dict_3 = defaultdict(dict)"
   ]
  },
  {
   "cell_type": "code",
   "execution_count": 16,
   "id": "solar-friendly",
   "metadata": {},
   "outputs": [],
   "source": [
    "for elem in dir_list:\n",
    "    for idx in range(1, 11):\n",
    "        model_dict_3[elem][idx] = mcd_toolbox_3.calculate_mcd(f'ground_truth/{idx}.wav', f'{elem}/{idx}_generated_e2e.wav')\n",
    "\n",
    "#mcd_value = mcd_toolbox.calculate_mcd(\"ground_truth/1.wav\", \"ljspeech_200000/1_generated_e2e.wav\")"
   ]
  },
  {
   "cell_type": "code",
   "execution_count": 17,
   "id": "narrative-recycling",
   "metadata": {},
   "outputs": [
    {
     "data": {
      "text/plain": [
       "defaultdict(dict,\n",
       "            {'wives_210000_new': {1: 4.623570967282574,\n",
       "              2: 7.156066714674327,\n",
       "              3: 9.633666774777504,\n",
       "              4: 7.785664509662468,\n",
       "              5: 5.61115193373838,\n",
       "              6: 8.764814601330437,\n",
       "              7: 8.653932309202592,\n",
       "              8: 9.984382423108991,\n",
       "              9: 7.100617437027432,\n",
       "              10: 12.04999123476267},\n",
       "             'wives_210000_22050hz': {1: 5.206829067479379,\n",
       "              2: 9.252392786951377,\n",
       "              3: 9.600079923964367,\n",
       "              4: 4.611073383621398,\n",
       "              5: 5.107327724248734,\n",
       "              6: 5.943767365313219,\n",
       "              7: 7.5239845104577645,\n",
       "              8: 7.4690497021981,\n",
       "              9: 7.998377152738664,\n",
       "              10: 8.566129510551484},\n",
       "             'wives_210000_24000hz': {1: 8.785936945826462,\n",
       "              2: 11.104431366955712,\n",
       "              3: 13.004475498706595,\n",
       "              4: 5.57640261274758,\n",
       "              5: 7.509669151739634,\n",
       "              6: 7.3062882520199155,\n",
       "              7: 10.058308420754464,\n",
       "              8: 7.506261083427868,\n",
       "              9: 11.272131545213856,\n",
       "              10: 19.825693282723666}})"
      ]
     },
     "execution_count": 17,
     "metadata": {},
     "output_type": "execute_result"
    }
   ],
   "source": [
    "model_dict_3"
   ]
  },
  {
   "cell_type": "code",
   "execution_count": 31,
   "id": "thirty-owner",
   "metadata": {},
   "outputs": [
    {
     "name": "stdout",
     "output_type": "stream",
     "text": [
      "0.0\n",
      "0.0\n",
      "0.0\n",
      "0.0\n",
      "0.0\n",
      "0.0\n",
      "0.0\n",
      "0.0\n",
      "0.0\n",
      "0.0\n",
      "0.0\n",
      "0.0\n",
      "0.0\n",
      "0.0\n",
      "0.0\n",
      "0.0\n",
      "0.0\n",
      "0.0\n",
      "0.0\n",
      "0.0\n",
      "0.0\n",
      "0.0\n",
      "0.0\n",
      "0.0\n",
      "0.0\n",
      "0.0\n",
      "0.0\n",
      "0.0\n",
      "0.0\n",
      "0.0\n",
      "0.0\n",
      "0.0\n",
      "0.0\n",
      "0.0\n",
      "0.0\n",
      "0.0\n",
      "0.0\n",
      "0.0\n",
      "0.0\n",
      "0.0\n"
     ]
    }
   ],
   "source": [
    "for elem in dir_list:\n",
    "    for idx in range(1, 11):\n",
    "        print(mcd_toolbox.calculate_mcd(f'ground_truth/{idx}.wav', f'ground_truth/{idx}.wav'))"
   ]
  },
  {
   "cell_type": "code",
   "execution_count": 27,
   "id": "north-immunology",
   "metadata": {},
   "outputs": [
    {
     "name": "stdout",
     "output_type": "stream",
     "text": [
      "34.59902475163295\n"
     ]
    }
   ],
   "source": [
    "print(mcd_toolbox_2.calculate_mcd('ground_truth/1.wav', 'bazinga.wav'))"
   ]
  },
  {
   "cell_type": "code",
   "execution_count": 26,
   "id": "noticed-tracker",
   "metadata": {},
   "outputs": [
    {
     "name": "stdout",
     "output_type": "stream",
     "text": [
      "31.2406502357197\n"
     ]
    }
   ],
   "source": [
    "print(mcd_toolbox.calculate_mcd('ground_truth/1.wav', 'bazinga_3sec.wav'))"
   ]
  },
  {
   "cell_type": "code",
   "execution_count": 40,
   "id": "distinguished-bernard",
   "metadata": {},
   "outputs": [
    {
     "name": "stdout",
     "output_type": "stream",
     "text": [
      "3.2133742855076917\n"
     ]
    }
   ],
   "source": [
    "print(mcd_toolbox.calculate_mcd('ground_truth/6.wav', 'silence.wav'))"
   ]
  },
  {
   "cell_type": "code",
   "execution_count": 45,
   "id": "third-faith",
   "metadata": {},
   "outputs": [],
   "source": [
    "scores_white = 0\n",
    "for i in range(1, 11):\n",
    "    scores_white += mcd_toolbox_3.calculate_mcd(f'ground_truth/{i}.wav', 'white_noise.wav')"
   ]
  },
  {
   "cell_type": "code",
   "execution_count": 46,
   "id": "urban-funeral",
   "metadata": {},
   "outputs": [
    {
     "data": {
      "text/plain": [
       "42.701404360238186"
      ]
     },
     "execution_count": 46,
     "metadata": {},
     "output_type": "execute_result"
    }
   ],
   "source": [
    "scores_white / 10"
   ]
  },
  {
   "cell_type": "code",
   "execution_count": 42,
   "id": "raised-sierra",
   "metadata": {},
   "outputs": [],
   "source": [
    "scores = 0\n",
    "for i in range(1, 11):\n",
    "    scores += mcd_toolbox_3.calculate_mcd(f'ground_truth/{i}.wav', 'silence.wav')"
   ]
  },
  {
   "cell_type": "code",
   "execution_count": 43,
   "id": "consistent-latino",
   "metadata": {},
   "outputs": [
    {
     "data": {
      "text/plain": [
       "43.00937092435548"
      ]
     },
     "execution_count": 43,
     "metadata": {},
     "output_type": "execute_result"
    }
   ],
   "source": [
    "scores"
   ]
  },
  {
   "cell_type": "code",
   "execution_count": 44,
   "id": "nervous-individual",
   "metadata": {},
   "outputs": [
    {
     "data": {
      "text/plain": [
       "4.300937092435548"
      ]
     },
     "execution_count": 44,
     "metadata": {},
     "output_type": "execute_result"
    }
   ],
   "source": [
    "scores / 10"
   ]
  },
  {
   "cell_type": "code",
   "execution_count": 50,
   "id": "departmental-highland",
   "metadata": {},
   "outputs": [
    {
     "name": "stdout",
     "output_type": "stream",
     "text": [
      "Looking in indexes: https://pypi.org/simple, https://pypi.ngc.nvidia.com\n"
     ]
    },
    {
     "name": "stderr",
     "output_type": "stream",
     "text": [
      "ERROR: Could not find a version that satisfies the requirement wav2vec2_stt (from versions: none)\n",
      "ERROR: No matching distribution found for wav2vec2_stt\n"
     ]
    }
   ],
   "source": [
    "!python -m pip install wav2vec2_stt"
   ]
  },
  {
   "cell_type": "code",
   "execution_count": 56,
   "id": "funny-underground",
   "metadata": {},
   "outputs": [],
   "source": [
    "import soundfile as sf\n",
    "import torch\n",
    "from transformers import Wav2Vec2ForCTC, Wav2Vec2Processor\n",
    "import argparse\n",
    "import librosa\n",
    "def parse_transcription(wav_file):\n",
    "    # load pretrained model\n",
    "    processor = Wav2Vec2Processor.from_pretrained(\"addy88/wav2vec2-english-stt\")\n",
    "    model = Wav2Vec2ForCTC.from_pretrained(\"addy88/wav2vec2-english-stt\")\n",
    "    # load audio\n",
    "    audio_input, sample_rate = sf.read(wav_file)\n",
    "    # pad input values and return pt tensor\n",
    "    input_values = processor(audio_input, sampling_rate=sample_rate, return_tensors=\"pt\").input_values\n",
    "    # INFERENCE\n",
    "    # retrieve logits & take argmax\n",
    "    logits = model(input_values).logits\n",
    "    predicted_ids = torch.argmax(logits, dim=-1)\n",
    "    # transcribe\n",
    "    transcription = processor.decode(predicted_ids[0], skip_special_tokens=True)\n",
    "    print(transcription)"
   ]
  },
  {
   "cell_type": "code",
   "execution_count": null,
   "id": "extreme-lease",
   "metadata": {},
   "outputs": [],
   "source": [
    "from scipy.io import wavfile\n",
    "import scipy.signal as sps\n",
    "\n",
    "# Your new sampling rate\n",
    "new_rate = 16000\n",
    "\n",
    "# Read file\n",
    "sampling_rate, data = wavfile.read(path)\n",
    "\n",
    "# Resample data\n",
    "number_of_samples = round(len(data) * float(new_rate) / sampling_rate)\n",
    "data = sps.resample(data, number_of_samples)"
   ]
  },
  {
   "cell_type": "code",
   "execution_count": 63,
   "id": "delayed-religion",
   "metadata": {},
   "outputs": [
    {
     "name": "stdout",
     "output_type": "stream",
     "text": [
      "do i ke yo recent the news\n",
      "None\n"
     ]
    }
   ],
   "source": [
    "for i in range(1, 11):\n",
    "    x, sr = librosa.load(f'ground_truth/{i}.wav', sr=16000)\n",
    "    sf.write('ground_truth/Test1.wav', x, sr, 'PCM_24')\n",
    "#     librosa.output.write_wav(\"ground_truth/Test1.wav\", x, sr=16000, norm=False)\n",
    "    print(parse_transcription(f'ground_truth/Test1.wav'))\n",
    "    break"
   ]
  },
  {
   "cell_type": "code",
   "execution_count": null,
   "id": "defined-hepatitis",
   "metadata": {},
   "outputs": [],
   "source": []
  }
 ],
 "metadata": {
  "kernelspec": {
   "display_name": "Python 3",
   "language": "python",
   "name": "python3"
  },
  "language_info": {
   "codemirror_mode": {
    "name": "ipython",
    "version": 3
   },
   "file_extension": ".py",
   "mimetype": "text/x-python",
   "name": "python",
   "nbconvert_exporter": "python",
   "pygments_lexer": "ipython3",
   "version": "3.9.1"
  }
 },
 "nbformat": 4,
 "nbformat_minor": 5
}
